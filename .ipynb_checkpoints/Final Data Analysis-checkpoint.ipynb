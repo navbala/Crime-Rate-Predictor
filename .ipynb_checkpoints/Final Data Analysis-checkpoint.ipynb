{
 "cells": [
  {
   "cell_type": "markdown",
   "metadata": {},
   "source": [
    "# Analysis"
   ]
  },
  {
   "cell_type": "markdown",
   "metadata": {},
   "source": [
    "## Intro"
   ]
  },
  {
   "cell_type": "code",
   "execution_count": null,
   "metadata": {
    "collapsed": true
   },
   "outputs": [],
   "source": []
  },
  {
   "cell_type": "markdown",
   "metadata": {},
   "source": [
    "## Crime Rate (by State) - Heat Map"
   ]
  },
  {
   "cell_type": "code",
   "execution_count": null,
   "metadata": {
    "collapsed": true
   },
   "outputs": [],
   "source": []
  },
  {
   "cell_type": "markdown",
   "metadata": {},
   "source": [
    "## Income (by State) - Heat Map"
   ]
  },
  {
   "cell_type": "code",
   "execution_count": 7,
   "metadata": {},
   "outputs": [],
   "source": [
    "import os\n",
    "import pandas as pd\n",
    "\n",
    "import plotly.plotly as py"
   ]
  },
  {
   "cell_type": "code",
   "execution_count": 2,
   "metadata": {},
   "outputs": [
    {
     "data": {
      "text/html": [
       "<div>\n",
       "<style>\n",
       "    .dataframe thead tr:only-child th {\n",
       "        text-align: right;\n",
       "    }\n",
       "\n",
       "    .dataframe thead th {\n",
       "        text-align: left;\n",
       "    }\n",
       "\n",
       "    .dataframe tbody tr th {\n",
       "        vertical-align: top;\n",
       "    }\n",
       "</style>\n",
       "<table border=\"1\" class=\"dataframe\">\n",
       "  <thead>\n",
       "    <tr style=\"text-align: right;\">\n",
       "      <th></th>\n",
       "      <th>State</th>\n",
       "      <th>2016</th>\n",
       "      <th>2015</th>\n",
       "      <th>2014</th>\n",
       "      <th>2013</th>\n",
       "      <th>2012</th>\n",
       "      <th>2011</th>\n",
       "      <th>2010</th>\n",
       "      <th>2009</th>\n",
       "      <th>2008</th>\n",
       "      <th>...</th>\n",
       "      <th>1993</th>\n",
       "      <th>1992</th>\n",
       "      <th>1991</th>\n",
       "      <th>1990</th>\n",
       "      <th>1989</th>\n",
       "      <th>1988</th>\n",
       "      <th>1987</th>\n",
       "      <th>1986</th>\n",
       "      <th>1985</th>\n",
       "      <th>1984</th>\n",
       "    </tr>\n",
       "  </thead>\n",
       "  <tbody>\n",
       "    <tr>\n",
       "      <th>0</th>\n",
       "      <td>United States</td>\n",
       "      <td>59039</td>\n",
       "      <td>56516</td>\n",
       "      <td>53657</td>\n",
       "      <td>53585</td>\n",
       "      <td>51017</td>\n",
       "      <td>50054</td>\n",
       "      <td>49276</td>\n",
       "      <td>49777</td>\n",
       "      <td>50303</td>\n",
       "      <td>...</td>\n",
       "      <td>31241</td>\n",
       "      <td>30636</td>\n",
       "      <td>30126</td>\n",
       "      <td>29943</td>\n",
       "      <td>28906</td>\n",
       "      <td>27225</td>\n",
       "      <td>26061</td>\n",
       "      <td>24897</td>\n",
       "      <td>23618</td>\n",
       "      <td>22415</td>\n",
       "    </tr>\n",
       "    <tr>\n",
       "      <th>1</th>\n",
       "      <td>AL</td>\n",
       "      <td>47221</td>\n",
       "      <td>44509</td>\n",
       "      <td>42278</td>\n",
       "      <td>47320</td>\n",
       "      <td>43464</td>\n",
       "      <td>42590</td>\n",
       "      <td>40933</td>\n",
       "      <td>39980</td>\n",
       "      <td>44476</td>\n",
       "      <td>...</td>\n",
       "      <td>25082</td>\n",
       "      <td>25808</td>\n",
       "      <td>24346</td>\n",
       "      <td>23357</td>\n",
       "      <td>21284</td>\n",
       "      <td>19948</td>\n",
       "      <td>19734</td>\n",
       "      <td>19132</td>\n",
       "      <td>18333</td>\n",
       "      <td>17310</td>\n",
       "    </tr>\n",
       "    <tr>\n",
       "      <th>2</th>\n",
       "      <td>AK</td>\n",
       "      <td>75723</td>\n",
       "      <td>75112</td>\n",
       "      <td>67629</td>\n",
       "      <td>72472</td>\n",
       "      <td>63648</td>\n",
       "      <td>57431</td>\n",
       "      <td>57848</td>\n",
       "      <td>61604</td>\n",
       "      <td>63989</td>\n",
       "      <td>...</td>\n",
       "      <td>42931</td>\n",
       "      <td>41802</td>\n",
       "      <td>40612</td>\n",
       "      <td>39298</td>\n",
       "      <td>36006</td>\n",
       "      <td>33103</td>\n",
       "      <td>33233</td>\n",
       "      <td>31356</td>\n",
       "      <td>34782</td>\n",
       "      <td>32356</td>\n",
       "    </tr>\n",
       "    <tr>\n",
       "      <th>3</th>\n",
       "      <td>AZ</td>\n",
       "      <td>57100</td>\n",
       "      <td>52248</td>\n",
       "      <td>49254</td>\n",
       "      <td>52611</td>\n",
       "      <td>47044</td>\n",
       "      <td>48621</td>\n",
       "      <td>46896</td>\n",
       "      <td>45739</td>\n",
       "      <td>46914</td>\n",
       "      <td>...</td>\n",
       "      <td>30510</td>\n",
       "      <td>29358</td>\n",
       "      <td>30737</td>\n",
       "      <td>29224</td>\n",
       "      <td>28552</td>\n",
       "      <td>26435</td>\n",
       "      <td>26749</td>\n",
       "      <td>25500</td>\n",
       "      <td>23877</td>\n",
       "      <td>21425</td>\n",
       "    </tr>\n",
       "    <tr>\n",
       "      <th>4</th>\n",
       "      <td>AR</td>\n",
       "      <td>45907</td>\n",
       "      <td>42798</td>\n",
       "      <td>44922</td>\n",
       "      <td>39376</td>\n",
       "      <td>39018</td>\n",
       "      <td>41302</td>\n",
       "      <td>38587</td>\n",
       "      <td>36538</td>\n",
       "      <td>39586</td>\n",
       "      <td>...</td>\n",
       "      <td>23039</td>\n",
       "      <td>23882</td>\n",
       "      <td>23435</td>\n",
       "      <td>22786</td>\n",
       "      <td>21433</td>\n",
       "      <td>20172</td>\n",
       "      <td>18827</td>\n",
       "      <td>18730</td>\n",
       "      <td>17451</td>\n",
       "      <td>15674</td>\n",
       "    </tr>\n",
       "  </tbody>\n",
       "</table>\n",
       "<p>5 rows × 34 columns</p>\n",
       "</div>"
      ],
      "text/plain": [
       "           State   2016   2015   2014   2013   2012   2011   2010   2009  \\\n",
       "0  United States  59039  56516  53657  53585  51017  50054  49276  49777   \n",
       "1             AL  47221  44509  42278  47320  43464  42590  40933  39980   \n",
       "2             AK  75723  75112  67629  72472  63648  57431  57848  61604   \n",
       "3             AZ  57100  52248  49254  52611  47044  48621  46896  45739   \n",
       "4             AR  45907  42798  44922  39376  39018  41302  38587  36538   \n",
       "\n",
       "    2008  ...     1993   1992   1991   1990   1989   1988   1987   1986  \\\n",
       "0  50303  ...    31241  30636  30126  29943  28906  27225  26061  24897   \n",
       "1  44476  ...    25082  25808  24346  23357  21284  19948  19734  19132   \n",
       "2  63989  ...    42931  41802  40612  39298  36006  33103  33233  31356   \n",
       "3  46914  ...    30510  29358  30737  29224  28552  26435  26749  25500   \n",
       "4  39586  ...    23039  23882  23435  22786  21433  20172  18827  18730   \n",
       "\n",
       "    1985   1984  \n",
       "0  23618  22415  \n",
       "1  18333  17310  \n",
       "2  34782  32356  \n",
       "3  23877  21425  \n",
       "4  17451  15674  \n",
       "\n",
       "[5 rows x 34 columns]"
      ]
     },
     "execution_count": 2,
     "metadata": {},
     "output_type": "execute_result"
    }
   ],
   "source": [
    "median_income_df = pd.read_csv(os.path.join('formatted','median_income.csv'))\n",
    "median_income_df.head()"
   ]
  },
  {
   "cell_type": "code",
   "execution_count": null,
   "metadata": {
    "collapsed": true
   },
   "outputs": [],
   "source": [
    "# Create initial heat map\n",
    "\n",
    "\n"
   ]
  },
  {
   "cell_type": "markdown",
   "metadata": {},
   "source": [
    "## Unemployment (by State) - Map"
   ]
  },
  {
   "cell_type": "code",
   "execution_count": null,
   "metadata": {
    "collapsed": true
   },
   "outputs": [],
   "source": []
  }
 ],
 "metadata": {
  "kernelspec": {
   "display_name": "Python 3",
   "language": "python",
   "name": "python3"
  },
  "language_info": {
   "codemirror_mode": {
    "name": "ipython",
    "version": 3
   },
   "file_extension": ".py",
   "mimetype": "text/x-python",
   "name": "python",
   "nbconvert_exporter": "python",
   "pygments_lexer": "ipython3",
   "version": "3.6.2"
  }
 },
 "nbformat": 4,
 "nbformat_minor": 2
}
